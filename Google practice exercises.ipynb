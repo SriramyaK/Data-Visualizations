{
 "cells": [
  {
   "cell_type": "code",
   "execution_count": 25,
   "metadata": {},
   "outputs": [
    {
     "data": {
      "text/plain": [
       "2"
      ]
     },
     "execution_count": 25,
     "metadata": {},
     "output_type": "execute_result"
    }
   ],
   "source": [
    "words = ['arrra','dorrd','python','kirka','dark']\n",
    "\n",
    "def match_ends(words):\n",
    "    count = 0\n",
    "    for sample in words:\n",
    "        if (len(sample) >= 2 and (sample[0]==sample[-1])):\n",
    "               count = count + 1\n",
    "    return count   \n",
    "\n",
    "\n",
    "match_ends(words)"
   ]
  },
  {
   "cell_type": "code",
   "execution_count": 67,
   "metadata": {},
   "outputs": [
    {
     "data": {
      "text/plain": [
       "['xanadu', 'xyz', 'aardvark', 'apple', 'mix']"
      ]
     },
     "execution_count": 67,
     "metadata": {},
     "output_type": "execute_result"
    }
   ],
   "source": [
    "words = ['mix', 'xyz', 'apple', 'xanadu', 'aardvark']\n",
    "def front_x(words):\n",
    "    head = []\n",
    "    tail = []\n",
    "    for string in words:\n",
    "        if string[0]=='x':\n",
    "            head.append(string)\n",
    "        else:\n",
    "            tail.append(string)\n",
    "           \n",
    "    return sorted(head) + sorted(tail)\n",
    "\n",
    "front_x(words)"
   ]
  },
  {
   "cell_type": "code",
   "execution_count": 89,
   "metadata": {},
   "outputs": [
    {
     "data": {
      "text/plain": [
       "[(2, 2), (1, 3), (3, 4, 5), (1, 7)]"
      ]
     },
     "execution_count": 89,
     "metadata": {},
     "output_type": "execute_result"
    }
   ],
   "source": [
    "tuples =[(1, 7), (1, 3), (3, 4, 5), (2, 2)]\n",
    "def last(a):\n",
    "    return a[-1]\n",
    "\n",
    "def sort_last(tuples):\n",
    "    return sorted(tuples,key=last)\n",
    "        \n",
    "sort_last(tuples)       \n",
    "\n",
    "#def sort_last:\n",
    " #   sorted(last(tuples))"
   ]
  },
  {
   "cell_type": "code",
   "execution_count": 198,
   "metadata": {},
   "outputs": [
    {
     "name": "stdout",
     "output_type": "stream",
     "text": [
      "7\n",
      "6\n",
      "5\n",
      "4\n",
      "3\n",
      "2\n",
      "1\n",
      "0\n",
      "-1\n"
     ]
    },
    {
     "data": {
      "text/plain": [
       "[1, 2, 3, 4, 0]"
      ]
     },
     "execution_count": 198,
     "metadata": {},
     "output_type": "execute_result"
    }
   ],
   "source": [
    "nums = [1,2,2,3,3,4,4,0]\n",
    "def remove_adjacent(nums):\n",
    "    for i in range(len(nums)-1,-2,-1):\n",
    "        print(i)\n",
    "        if nums[i]==nums[i-1]:\n",
    "            nums.pop(i)\n",
    "    return nums\n",
    "remove_adjacent(nums)      "
   ]
  },
  {
   "cell_type": "markdown",
   "metadata": {},
   "source": [
    "# arr = [1,2,2,3,3,4,4,0]\n",
    "for j in range(8):\n",
    "    print(j)\n",
    "    "
   ]
  },
  {
   "cell_type": "code",
   "execution_count": 171,
   "metadata": {},
   "outputs": [
    {
     "name": "stdout",
     "output_type": "stream",
     "text": [
      "0\n",
      "1\n",
      "2\n",
      "3\n",
      "4\n",
      "5\n",
      "6\n"
     ]
    }
   ],
   "source": [
    "for i in range(7):\n",
    "    print(i)"
   ]
  },
  {
   "cell_type": "code",
   "execution_count": null,
   "metadata": {},
   "outputs": [],
   "source": []
  },
  {
   "cell_type": "code",
   "execution_count": 156,
   "metadata": {},
   "outputs": [
    {
     "name": "stdout",
     "output_type": "stream",
     "text": [
      "5\n"
     ]
    }
   ],
   "source": [
    "nums = [1,2,3,3,4,5,5]\n",
    "def remove_adjacent(nums):\n",
    "    for num in nums:\n",
    "        if num == num+1:\n",
    "            return nums.pop(num)\n",
    "        num=num+1                  \n",
    "   "
   ]
  },
  {
   "cell_type": "code",
   "execution_count": 48,
   "metadata": {},
   "outputs": [
    {
     "data": {
      "text/plain": [
       "[1, 2, 3, 4, 0]"
      ]
     },
     "execution_count": 48,
     "metadata": {},
     "output_type": "execute_result"
    }
   ],
   "source": [
    "nums = [1,2,2,3,3,4,4,0]\n",
    "def remove_adjacent(nums):\n",
    "    result = []\n",
    "    for num in nums:\n",
    "        if len(result)==0 or num!=result[-1]:\n",
    "            result.append(num)\n",
    "    return result\n",
    "remove_adjacent(nums)"
   ]
  },
  {
   "cell_type": "code",
   "execution_count": 203,
   "metadata": {},
   "outputs": [
    {
     "name": "stdout",
     "output_type": "stream",
     "text": [
      "8\n",
      "7\n",
      "6\n",
      "5\n",
      "4\n",
      "3\n",
      "2\n",
      "1\n",
      "8\n"
     ]
    }
   ],
   "source": [
    "x=[1,2,3,4,5,6,7,8]\n",
    "\n",
    "for i in range(len(x)-1,-2,-1):\n",
    "    print(x[i])"
   ]
  },
  {
   "cell_type": "code",
   "execution_count": null,
   "metadata": {},
   "outputs": [],
   "source": []
  }
 ],
 "metadata": {
  "kernelspec": {
   "display_name": "Python 3",
   "language": "python",
   "name": "python3"
  },
  "language_info": {
   "codemirror_mode": {
    "name": "ipython",
    "version": 3
   },
   "file_extension": ".py",
   "mimetype": "text/x-python",
   "name": "python",
   "nbconvert_exporter": "python",
   "pygments_lexer": "ipython3",
   "version": "3.7.1"
  }
 },
 "nbformat": 4,
 "nbformat_minor": 2
}
