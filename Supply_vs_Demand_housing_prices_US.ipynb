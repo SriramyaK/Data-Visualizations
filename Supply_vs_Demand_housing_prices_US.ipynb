{
  "nbformat": 4,
  "nbformat_minor": 0,
  "metadata": {
    "colab": {
      "name": "Supply vs Demand_housing prices US.ipynb",
      "provenance": [],
      "collapsed_sections": [],
      "authorship_tag": "ABX9TyMibOQ9ukmtczTLxJ1OzgZn",
      "include_colab_link": true
    },
    "kernelspec": {
      "name": "python3",
      "display_name": "Python 3"
    }
  },
  "cells": [
    {
      "cell_type": "markdown",
      "metadata": {
        "id": "view-in-github",
        "colab_type": "text"
      },
      "source": [
        "<a href=\"https://colab.research.google.com/github/SriramyaK/Data-Visualizations/blob/master/Supply_vs_Demand_housing_prices_US.ipynb\" target=\"_parent\"><img src=\"https://colab.research.google.com/assets/colab-badge.svg\" alt=\"Open In Colab\"/></a>"
      ]
    },
    {
      "cell_type": "code",
      "metadata": {
        "colab": {
          "base_uri": "https://localhost:8080/"
        },
        "id": "k9Q4D94zb3xp",
        "outputId": "a69142ad-7f2b-43e4-aa33-d5fa7c5019c4"
      },
      "source": [
        "import pandas as pd\r\n",
        "import matplotlib.pyplot as plt # Plotting library\r\n",
        "import seaborn as sns # data visualization library\r\n",
        "import datetime\r\n",
        "sns.set(style=\"darkgrid\")\r\n",
        "\r\n",
        "housing = pd.read_csv(\"Sales_and_demand.csv\",parse_dates=True)\r\n",
        "housing.head()\r\n",
        "housing.info()"
      ],
      "execution_count": 161,
      "outputs": [
        {
          "output_type": "stream",
          "text": [
            "<class 'pandas.core.frame.DataFrame'>\n",
            "RangeIndex: 252 entries, 0 to 251\n",
            "Data columns (total 11 columns):\n",
            " #   Column                     Non-Null Count  Dtype  \n",
            "---  ------                     --------------  -----  \n",
            " 0   Year                       241 non-null    object \n",
            " 1   HPI                        241 non-null    float64\n",
            " 2   Unemployment Rate          241 non-null    float64\n",
            " 3   GDP                        241 non-null    float64\n",
            " 4   Inventory                  241 non-null    float64\n",
            " 5   Consumer Confidence Index  241 non-null    float64\n",
            " 6   Housing Starts             241 non-null    float64\n",
            " 7   Permits_cust               241 non-null    float64\n",
            " 8   Population                 241 non-null    float64\n",
            " 9   Interest Rates             241 non-null    float64\n",
            " 10  Mortgage                   241 non-null    float64\n",
            "dtypes: float64(10), object(1)\n",
            "memory usage: 21.8+ KB\n"
          ],
          "name": "stdout"
        }
      ]
    },
    {
      "cell_type": "code",
      "metadata": {
        "id": "l_R2MvZMY_7-"
      },
      "source": [
        "housing['Year_parsed'] =  pd.to_datetime(housing['Year'])\r\n",
        "housing['Year'] = housing['Year_parsed'].dt.year\r\n",
        "housing['Month'] = housing['Year_parsed'].dt.month\r\n",
        "housing.drop(columns=['Year_parsed'],inplace=True)"
      ],
      "execution_count": 162,
      "outputs": []
    },
    {
      "cell_type": "code",
      "metadata": {
        "colab": {
          "base_uri": "https://localhost:8080/"
        },
        "id": "1AhfT12EcOs7",
        "outputId": "664ce1ee-6671-4c21-b155-623b24c4cfb5"
      },
      "source": [
        "housing.info()"
      ],
      "execution_count": 163,
      "outputs": [
        {
          "output_type": "stream",
          "text": [
            "<class 'pandas.core.frame.DataFrame'>\n",
            "RangeIndex: 252 entries, 0 to 251\n",
            "Data columns (total 12 columns):\n",
            " #   Column                     Non-Null Count  Dtype  \n",
            "---  ------                     --------------  -----  \n",
            " 0   Year                       241 non-null    float64\n",
            " 1   HPI                        241 non-null    float64\n",
            " 2   Unemployment Rate          241 non-null    float64\n",
            " 3   GDP                        241 non-null    float64\n",
            " 4   Inventory                  241 non-null    float64\n",
            " 5   Consumer Confidence Index  241 non-null    float64\n",
            " 6   Housing Starts             241 non-null    float64\n",
            " 7   Permits_cust               241 non-null    float64\n",
            " 8   Population                 241 non-null    float64\n",
            " 9   Interest Rates             241 non-null    float64\n",
            " 10  Mortgage                   241 non-null    float64\n",
            " 11  Month                      241 non-null    float64\n",
            "dtypes: float64(12)\n",
            "memory usage: 23.8 KB\n"
          ],
          "name": "stdout"
        }
      ]
    },
    {
      "cell_type": "code",
      "metadata": {
        "id": "qApuXY9qmX4O"
      },
      "source": [
        "housing.dropna(inplace=True)"
      ],
      "execution_count": 164,
      "outputs": []
    },
    {
      "cell_type": "code",
      "metadata": {
        "colab": {
          "base_uri": "https://localhost:8080/",
          "height": 435
        },
        "id": "7y9sZe85UBKM",
        "outputId": "89b45cab-b709-493b-bf98-3414331e3442"
      },
      "source": [
        "numeric_analysis = housing.corr()\r\n",
        "sns.heatmap(numeric_analysis)"
      ],
      "execution_count": 165,
      "outputs": [
        {
          "output_type": "execute_result",
          "data": {
            "text/plain": [
              "<matplotlib.axes._subplots.AxesSubplot at 0x7f4417a49668>"
            ]
          },
          "metadata": {
            "tags": []
          },
          "execution_count": 165
        },
        {
          "output_type": "display_data",
          "data": {
            "image/png": "[encoded data removed]",
            "text/plain": [
              "<Figure size 432x288 with 2 Axes>"
            ]
          },
          "metadata": {
            "tags": []
          }
        }
      ]
    },
    {
      "cell_type": "code",
      "metadata": {
        "id": "RUREvbHsTHWf"
      },
      "source": [
        "y = housing['HPI']\r\n",
        "x = housing.drop(columns='HPI')"
      ],
      "execution_count": 166,
      "outputs": []
    },
    {
      "cell_type": "code",
      "metadata": {
        "colab": {
          "base_uri": "https://localhost:8080/"
        },
        "id": "8IUaJtB6Tv0s",
        "outputId": "827f64a2-ad61-42a1-fdf9-2f3f41291ecd"
      },
      "source": [
        "x.shape, y.shape"
      ],
      "execution_count": 167,
      "outputs": [
        {
          "output_type": "execute_result",
          "data": {
            "text/plain": [
              "((241, 11), (241,))"
            ]
          },
          "metadata": {
            "tags": []
          },
          "execution_count": 167
        }
      ]
    },
    {
      "cell_type": "code",
      "metadata": {
        "id": "RVJxKhNRT7SD"
      },
      "source": [
        "from sklearn.model_selection import train_test_split\r\n",
        "x_train, x_test, y_train, y_test = train_test_split(x, y, test_size=0.20, random_state=1)"
      ],
      "execution_count": 168,
      "outputs": []
    },
    {
      "cell_type": "code",
      "metadata": {
        "colab": {
          "base_uri": "https://localhost:8080/"
        },
        "id": "SuBhCtNhUnST",
        "outputId": "5cc5367b-03c0-4507-dd77-7734ea1c51e0"
      },
      "source": [
        "x_train.shape, x_test.shape, y_train.shape, y_test.shape"
      ],
      "execution_count": 169,
      "outputs": [
        {
          "output_type": "execute_result",
          "data": {
            "text/plain": [
              "((192, 11), (49, 11), (192,), (49,))"
            ]
          },
          "metadata": {
            "tags": []
          },
          "execution_count": 169
        }
      ]
    },
    {
      "cell_type": "code",
      "metadata": {
        "id": "IzvlQHSkUpeK"
      },
      "source": [
        "trainX = pd.DataFrame(x_train)\r\n",
        "trainX['target'] = y_train\r\n",
        "\r\n",
        "testX = pd.DataFrame(x_test)\r\n",
        "testX['target'] = y_test"
      ],
      "execution_count": 170,
      "outputs": []
    },
    {
      "cell_type": "code",
      "metadata": {
        "id": "dYLVR_RtWBTi"
      },
      "source": [
        "trainX.to_csv('housing_train.csv')\r\n",
        "testX.to_csv('housing_test.csv')"
      ],
      "execution_count": 171,
      "outputs": []
    },
    {
      "cell_type": "code",
      "metadata": {
        "colab": {
          "base_uri": "https://localhost:8080/"
        },
        "id": "nB2AbwDgVGJ5",
        "outputId": "f698f4ea-d9bb-4553-9e29-5a8d2d852ad1"
      },
      "source": [
        "%%writefile script.py\r\n",
        "\r\n",
        "import argparse\r\n",
        "import os\r\n",
        "\r\n",
        "import numpy as np\r\n",
        "import pandas as pd\r\n",
        "from sklearn.ensemble import RandomForestRegressor\r\n",
        "from sklearn.externals import joblib\r\n",
        "from sklearn.metrics import explained_variance_score, r2_score\r\n",
        "\r\n",
        "\r\n",
        "\r\n",
        "# inference functions ---------------\r\n",
        "def model_fn(model_dir):\r\n",
        "    clf = joblib.load(os.path.join(model_dir, \"model.joblib\"))\r\n",
        "    return clf\r\n",
        "\r\n",
        "if __name__ =='__main__':\r\n",
        "\r\n",
        "    print('extracting arguments')\r\n",
        "    parser = argparse.ArgumentParser()\r\n",
        "\r\n",
        "    # hyperparameters sent by the client are passed as command-line arguments to the script.\r\n",
        "    # to simplify the demo we don't use all sklearn RandomForest hyperparameters\r\n",
        "    parser.add_argument('--n-estimators', type=int, default=100)\r\n",
        "    parser.add_argument('--max_leaf_nodes', type=int, default=10)\r\n",
        "    \r\n",
        "\r\n",
        "    # Data, model, and output directories\r\n",
        "    parser.add_argument('--model-dir', type=str, default=os.environ.get('SM_MODEL_DIR'))\r\n",
        "    parser.add_argument('--train', type=str, default=os.environ.get('SM_CHANNEL_TRAIN'))\r\n",
        "    parser.add_argument('--test', type=str, default=os.environ.get('SM_CHANNEL_TEST'))\r\n",
        "    parser.add_argument('--train-file', type=str, default='housing_train.csv')\r\n",
        "    parser.add_argument('--test-file', type=str, default='housing_test.csv')\r\n",
        "    \r\n",
        "    args, _ = parser.parse_known_args()\r\n",
        "    \r\n",
        "    print('reading data')\r\n",
        "    train_df = pd.read_csv(os.path.join(args.train, args.train_file))\r\n",
        "    test_df = pd.read_csv(os.path.join(args.test, args.test_file))\r\n",
        "\r\n",
        "    print('building training and testing datasets')\r\n",
        "    \r\n",
        "    X_train = train_df\r\n",
        "    X_test = test_df\r\n",
        "    y_train = train_df['target']\r\n",
        "    y_test = test_df['target']\r\n",
        "    \r\n",
        "    # train\r\n",
        "    print('training model')\r\n",
        "    model = RandomForestRegressor(\r\n",
        "        n_estimators=args.n_estimators,\r\n",
        "        max_leaf_nodes =args.max_leaf_nodes,\r\n",
        "        n_jobs=-1)\r\n",
        "    \r\n",
        "    model.fit(X_train, y_train)\r\n",
        "     \r\n",
        "    # persist model\r\n",
        "    path = os.path.join(args.model_dir, \"model.joblib\")\r\n",
        "    joblib.dump(model, path)\r\n",
        "    print('model persisted at ' + path)\r\n",
        "    \r\n",
        "    # print explained_variance_score \r\n",
        "    print('validating model')\r\n",
        "    predictions = model.predict(X_test)\r\n",
        "    print(\"Explained Variance Score is \" + str(explained_variance_score(y_test, predictions).round(2)))\r\n",
        "    print(\"R2 score : %.2f\" % r2_score(y_test,predictions))"
      ],
      "execution_count": 172,
      "outputs": [
        {
          "output_type": "stream",
          "text": [
            "Overwriting script.py\n"
          ],
          "name": "stdout"
        }
      ]
    },
    {
      "cell_type": "code",
      "metadata": {
        "colab": {
          "base_uri": "https://localhost:8080/"
        },
        "id": "3tfgnJv0XMvG",
        "outputId": "50bf240c-e2bf-4682-9402-9db3f07d601a"
      },
      "source": [
        "! python script.py --n-estimators 100 \\\r\n",
        "                   --max-leaf-nodes 8 \\\r\n",
        "                   --model-dir ./ \\\r\n",
        "                   --train ./ \\\r\n",
        "                   --test ./ \\"
      ],
      "execution_count": 175,
      "outputs": [
        {
          "output_type": "stream",
          "text": [
            "/usr/local/lib/python3.6/dist-packages/sklearn/externals/joblib/__init__.py:15: FutureWarning: sklearn.externals.joblib is deprecated in 0.21 and will be removed in 0.23. Please import this functionality directly from joblib, which can be installed with: pip install joblib. If this warning is raised when loading pickled models, you may need to re-serialize those models with scikit-learn 0.21+.\n",
            "  warnings.warn(msg, category=FutureWarning)\n",
            "extracting arguments\n",
            "reading data\n",
            "building training and testing datasets\n",
            "training model\n",
            "model persisted at ./model.joblib\n",
            "validating model\n",
            "Explained Variance Score is 0.99\n",
            "R2 score : 0.99\n"
          ],
          "name": "stdout"
        }
      ]
    }
  ]
}