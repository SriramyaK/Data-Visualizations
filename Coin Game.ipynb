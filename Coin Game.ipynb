{
 "cells": [
  {
   "cell_type": "code",
   "execution_count": 92,
   "metadata": {},
   "outputs": [
    {
     "name": "stdout",
     "output_type": "stream",
     "text": [
      "Maximum 9 coins: 1\n",
      "Remaining no.of 1 coins: 2\n"
     ]
    },
    {
     "data": {
      "text/plain": [
       "('Total Minimum no.of coins required : ', 3)"
      ]
     },
     "execution_count": 92,
     "metadata": {},
     "output_type": "execute_result"
    }
   ],
   "source": [
    "def min_coins(value,x1,x2,x3):\n",
    "    \"\"\"Function to return minimum number of coins given 3 values of coins for a given denomination\"\"\"\n",
    "    \n",
    "    z = value // max(x1,x2,x3) \n",
    "    print(\"Maximum \" + str(max(x1,x2,x3))  + \" coins: \" + str(z))\n",
    "    rem = value % max(x1,x2,x3) \n",
    "    t = rem // min(x1,x2,x3)\n",
    "    print(\"Remaining no.of \" + str(min(x1,x2,x3)) + \" coins: \" + str(t))\n",
    "    return ('Total Minimum no.of coins required : ',t+z)   \n",
    "\n",
    "\n",
    "min_coins(11,1,6,9)l"
   ]
  },
  {
   "cell_type": "code",
   "execution_count": null,
   "metadata": {},
   "outputs": [],
   "source": []
  }
 ],
 "metadata": {
  "kernelspec": {
   "display_name": "Python 3.5",
   "language": "python",
   "name": "python3"
  },
  "language_info": {
   "codemirror_mode": {
    "name": "ipython",
    "version": 3
   },
   "file_extension": ".py",
   "mimetype": "text/x-python",
   "name": "python",
   "nbconvert_exporter": "python",
   "pygments_lexer": "ipython3",
   "version": "3.5.5"
  }
 },
 "nbformat": 4,
 "nbformat_minor": 1
}
